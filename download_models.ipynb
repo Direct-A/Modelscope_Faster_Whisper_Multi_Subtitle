{
 "cells": [
  {
   "cell_type": "code",
   "execution_count": 3,
   "metadata": {},
   "outputs": [
    {
     "name": "stderr",
     "output_type": "stream",
     "text": [
      "2024-11-15 23:55:30,752 - modelscope - WARNING - Model revision not specified, use revision: v1.0.2\n",
      "Downloading: 100%|██████████| 1.45k/1.45k [00:00<00:00, 982kB/s]\n",
      "Downloading: 100%|██████████| 903/903 [00:00<00:00, 2.49MB/s]\n",
      "Downloading: 100%|██████████| 177k/177k [00:00<00:00, 973kB/s]\n",
      "Downloading: 100%|██████████| 88.2k/88.2k [00:00<00:00, 736kB/s]\n",
      "Downloading: 100%|██████████| 55.3M/55.3M [00:03<00:00, 14.9MB/s]\n",
      "Downloading: 100%|██████████| 12.8k/12.8k [00:00<00:00, 5.31MB/s]\n",
      "Downloading: 100%|██████████| 75.0k/75.0k [00:00<00:00, 565kB/s]\n",
      "Downloading: 100%|██████████| 152k/152k [00:00<00:00, 742kB/s]\n"
     ]
    }
   ],
   "source": [
    "#模型下载\n",
    "from modelscope import snapshot_download\n",
    "model_dir = snapshot_download('iic/speech_frcrn_ans_cirm_16k')"
   ]
  },
  {
   "cell_type": "code",
   "execution_count": 5,
   "metadata": {},
   "outputs": [
    {
     "name": "stderr",
     "output_type": "stream",
     "text": [
      "2024-11-16 00:09:46,777 - modelscope - WARNING - Model revision not specified, use revision: v1.0.1\n"
     ]
    }
   ],
   "source": [
    "#模型下载\n",
    "from modelscope import snapshot_download\n",
    "model_dir = snapshot_download('iic/nlp_csanmt_translation_en2zh')"
   ]
  },
  {
   "cell_type": "code",
   "execution_count": null,
   "metadata": {},
   "outputs": [],
   "source": []
  }
 ],
 "metadata": {
  "kernelspec": {
   "display_name": ".venv",
   "language": "python",
   "name": "python3"
  },
  "language_info": {
   "codemirror_mode": {
    "name": "ipython",
    "version": 3
   },
   "file_extension": ".py",
   "mimetype": "text/x-python",
   "name": "python",
   "nbconvert_exporter": "python",
   "pygments_lexer": "ipython3",
   "version": "3.9.20"
  }
 },
 "nbformat": 4,
 "nbformat_minor": 2
}
